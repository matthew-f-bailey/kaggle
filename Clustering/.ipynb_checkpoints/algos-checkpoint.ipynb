{
 "cells": [
  {
   "cell_type": "code",
   "execution_count": 1,
   "id": "94a9a031-cee4-4286-be18-ea62bfc0f534",
   "metadata": {},
   "outputs": [],
   "source": [
    "import numpy as np\n",
    "import pandas as pd\n",
    "import matplotlib.pyplot as plt\n",
    "import seaborn as sns\n",
    "import random"
   ]
  },
  {
   "cell_type": "markdown",
   "id": "5c52ff58-f763-4592-8e54-24433fca0bb6",
   "metadata": {},
   "source": [
    "# K Means Clustering"
   ]
  },
  {
   "cell_type": "markdown",
   "id": "98139e42-5f6b-4955-ad3b-9935420cc5df",
   "metadata": {},
   "source": [
    "### We start with the initial algorithm. We start by initializing k centroids. This can be done various ways and I will use 2, a basic random pick and a slightly more thought out approach to avoid picking 2 similar centroids. After we have the initial centroids, we assign each point to the closest centroid and label it as part of that cluster. We then recalculate the middle points, or centroids of those new clusters and repeat the process again. This is repeated until there is no change in the centroids."
   ]
  },
  {
   "cell_type": "code",
   "execution_count": 203,
   "id": "ae69e81c-0284-4a4c-a3a4-263b5cb9caa3",
   "metadata": {},
   "outputs": [],
   "source": [
    "def kMeans(df: pd.DataFrame, k: int, initialize: str = \"k++\") -> pd.DataFrame:\n",
    "    \"\"\"Perform k means clustering\"\"\"\n",
    "    \n",
    "    kdf = df.copy()\n",
    "        \n",
    "    # 1. Initialize centroids\n",
    "    if initialize == \"random\":\n",
    "        centroids = init_centroids_random(kdf, k)\n",
    "    else:\n",
    "        centroids = init_centroids_k_plus(kdf, k)\n",
    "        \n",
    "    centroids_initial = centroids.copy()\n",
    "        \n",
    "    print(\"Clusters:\")\n",
    "    print(centroids)\n",
    "    \n",
    "    # Perform clustering until no more change\n",
    "    i=0\n",
    "    while True:\n",
    "        i += 1\n",
    "        print(\"Cluster Iteration \", i)\n",
    "        print(\"Current Centroids\\n\", centroids)\n",
    "        \n",
    "        # 2. Compute distance from points to the centroids & Assign to a cluster\n",
    "        kdf[\"cluster\"] = kdf.apply(nearest_cluster, centroids=centroids, axis=1)\n",
    "        print(kdf)\n",
    "\n",
    "        # 3. Calculate new clusters based on mean of current\n",
    "        last_centoids = centroids\n",
    "        centroids = kdf.groupby(\"cluster\").mean()\n",
    "        \n",
    "        # Repeat if not done\n",
    "        if last_centoids.equals(centroids):\n",
    "            print(f\"Clustering Complete after {i} iterations\")\n",
    "            break\n",
    "\n",
    "    return kdf"
   ]
  },
  {
   "cell_type": "code",
   "execution_count": 204,
   "id": "9bcbd15e-799a-4cd0-a833-5554822946be",
   "metadata": {},
   "outputs": [],
   "source": [
    "def nearest_cluster(df_row1: pd.Series, centroids: pd.DataFrame):\n",
    "    \"\"\"For each row, assign which is the closest centroid\"\"\"\n",
    "    diff = (centroids-df_row1)**2\n",
    "    diff = diff.apply(np.sum, axis=1)\n",
    "\n",
    "    return diff.idxmin()"
   ]
  },
  {
   "cell_type": "code",
   "execution_count": 205,
   "id": "18933762-fb8a-4a59-98a4-777342a1370f",
   "metadata": {},
   "outputs": [],
   "source": [
    "def init_centroids_random(df: pd.DataFrame, k: int) -> pd.Series:\n",
    "    \"\"\"Initialze Centroids by choosing k random points\"\"\"\n",
    "    # Random points\n",
    "    df_range = range(0, len(df))\n",
    "    rand_rows = random.sample(df_range, k)\n",
    "    centroids = df.iloc[rand_rows].reset_index(drop=True)\n",
    "    print(\"Initial Random Centroids Found @\\n\", centroids)\n",
    "    return centroids"
   ]
  },
  {
   "cell_type": "code",
   "execution_count": 194,
   "id": "7df07ba1-8572-4d4d-aff8-cfb4106912e0",
   "metadata": {},
   "outputs": [],
   "source": [
    "def init_centroids_k_plus(data: pd.DataFrame, k: int) -> pd.Series:\n",
    "    '''\n",
    "        Initialize one point at random.\n",
    "        Loop for k - 1 iterations:\n",
    "            Calculate for each point, the distance of the point from its nearest center. Sample a point with a \n",
    "            probability proportional to the square of the distance of the point from its nearest center.\n",
    "    '''\n",
    "    df = data.copy()\n",
    "    df_range = range(0, len(df))\n",
    "    rand_row = random.sample(df_range, 1)\n",
    "    centroids = df.iloc[rand_row].reset_index(drop=True)\n",
    "    df.drop(rand_row[0], inplace=True)\n",
    "    df.reset_index(drop=True, inplace=True)\n",
    "    print(\"Initial Centroid Found for K++ method @\\n\", centroids)\n",
    "    print(df)\n",
    "    \n",
    "    max_dist = {\"index\": 1, \"distance\": 0}\n",
    "    \n",
    "    for i in range(1, k):\n",
    "        # Loop and select the remaining points\n",
    "        print(f\"Starting iteration {i} with {len(centroids)} already defined\")\n",
    "        print(\"Current Centroids:\")\n",
    "        print(centroids)\n",
    "        \n",
    "        max_idx = df.apply(total_distance, centroids=centroids, axis=1).sum(axis=1).idxmax()\n",
    "        # Place farthest point into centroids and remove from df\n",
    "        new_centroid = df.iloc[max_idx]\n",
    "        print(\"New Centroid Found @\\n\", new_centroid)\n",
    "        df.drop(max_idx, inplace=True)\n",
    "        df.reset_index(drop=True, inplace=True)\n",
    "        centroids.loc[k] = new_centroid\n",
    "        centroids.reset_index(drop=True, inplace=True)\n",
    "    \n",
    "    return centroids\n",
    "        \n",
    "def total_distance(row, centroids):\n",
    "    diff = (centroids-row)**2\n",
    "    return diff.sum()"
   ]
  },
  {
   "cell_type": "code",
   "execution_count": 206,
   "id": "408d951a-c569-4f53-acde-fa15f8ba0a1c",
   "metadata": {
    "tags": []
   },
   "outputs": [
    {
     "name": "stdout",
     "output_type": "stream",
     "text": [
      "Initial Centroid Found for K++ method @\n",
      "    x  y\n",
      "0  2  2\n",
      "     x   y\n",
      "0    1   1\n",
      "1    3   1\n",
      "2    6  10\n",
      "3    6   6\n",
      "4    8   8\n",
      "5    7   6\n",
      "6   12  11\n",
      "7   11  12\n",
      "8   13  15\n",
      "9    2  15\n",
      "10   1  16\n",
      "11   3  18\n",
      "Starting iteration 1 with 1 already defined\n",
      "Current Centroids:\n",
      "   x  y\n",
      "0  2  2\n",
      "New Centroid Found @\n",
      " x    13\n",
      "y    15\n",
      "Name: 8, dtype: int64\n",
      "Starting iteration 2 with 2 already defined\n",
      "Current Centroids:\n",
      "    x   y\n",
      "0   2   2\n",
      "1  13  15\n",
      "New Centroid Found @\n",
      " x     3\n",
      "y    18\n",
      "Name: 10, dtype: int64\n",
      "Starting iteration 3 with 3 already defined\n",
      "Current Centroids:\n",
      "    x   y\n",
      "0   2   2\n",
      "1  13  15\n",
      "2   3  18\n",
      "New Centroid Found @\n",
      " x    1\n",
      "y    1\n",
      "Name: 0, dtype: int64\n",
      "Clusters:\n",
      "    x   y\n",
      "0   2   2\n",
      "1  13  15\n",
      "2   3  18\n",
      "3   1   1\n",
      "Cluster Iteration  1\n",
      "Current Centroids\n",
      "     x   y\n",
      "0   2   2\n",
      "1  13  15\n",
      "2   3  18\n",
      "3   1   1\n",
      "     x   y  cluster\n",
      "0    1   1        3\n",
      "1    2   2        0\n",
      "2    3   1        0\n",
      "3    6  10        2\n",
      "4    6   6        0\n",
      "5    8   8        0\n",
      "6    7   6        0\n",
      "7   12  11        1\n",
      "8   11  12        1\n",
      "9   13  15        1\n",
      "10   2  15        2\n",
      "11   1  16        2\n",
      "12   3  18        2\n",
      "Cluster Iteration  2\n",
      "Current Centroids\n",
      "             x          y\n",
      "cluster                 \n",
      "0         5.2   4.600000\n",
      "1        12.0  12.666667\n",
      "2         3.0  14.750000\n",
      "3         1.0   1.000000\n",
      "     x   y  cluster\n",
      "0    1   1        3\n",
      "1    2   2        3\n",
      "2    3   1        3\n",
      "3    6  10        0\n",
      "4    6   6        0\n",
      "5    8   8        0\n",
      "6    7   6        0\n",
      "7   12  11        1\n",
      "8   11  12        1\n",
      "9   13  15        1\n",
      "10   2  15        2\n",
      "11   1  16        2\n",
      "12   3  18        2\n",
      "Cluster Iteration  3\n",
      "Current Centroids\n",
      "              x          y\n",
      "cluster                  \n",
      "0         6.75   7.500000\n",
      "1        12.00  12.666667\n",
      "2         2.00  16.333333\n",
      "3         2.00   1.333333\n",
      "     x   y  cluster\n",
      "0    1   1        3\n",
      "1    2   2        3\n",
      "2    3   1        3\n",
      "3    6  10        0\n",
      "4    6   6        0\n",
      "5    8   8        0\n",
      "6    7   6        0\n",
      "7   12  11        1\n",
      "8   11  12        1\n",
      "9   13  15        1\n",
      "10   2  15        2\n",
      "11   1  16        2\n",
      "12   3  18        2\n",
      "Clustering Complete after 3 iterations\n"
     ]
    }
   ],
   "source": [
    "df_kplus_init = pd.DataFrame(data={\"x\": [1,2,3,6,6,8,7,12,11,13,2,1,3], \"y\": [1,2,1,10,6,8,6,11,12,15,15,16,18]})\n",
    "df_kplus_init = kMeans(df, 4)"
   ]
  },
  {
   "cell_type": "code",
   "execution_count": 211,
   "id": "325b644a-3e05-4496-b417-ac4918143043",
   "metadata": {},
   "outputs": [
    {
     "name": "stdout",
     "output_type": "stream",
     "text": [
      "Initial Random Centroids Found @\n",
      "    x   y\n",
      "0  3  18\n",
      "1  1  16\n",
      "2  7   6\n",
      "3  6   6\n",
      "Clusters:\n",
      "   x   y\n",
      "0  3  18\n",
      "1  1  16\n",
      "2  7   6\n",
      "3  6   6\n",
      "Cluster Iteration  1\n",
      "Current Centroids\n",
      "    x   y\n",
      "0  3  18\n",
      "1  1  16\n",
      "2  7   6\n",
      "3  6   6\n",
      "     x   y  cluster\n",
      "0    1   1        3\n",
      "1    2   2        3\n",
      "2    3   1        3\n",
      "3    6  10        3\n",
      "4    6   6        3\n",
      "5    8   8        2\n",
      "6    7   6        2\n",
      "7   12  11        2\n",
      "8   11  12        2\n",
      "9   13  15        0\n",
      "10   2  15        1\n",
      "11   1  16        1\n",
      "12   3  18        0\n",
      "Cluster Iteration  2\n",
      "Current Centroids\n",
      "            x      y\n",
      "cluster            \n",
      "0        8.0  16.50\n",
      "1        1.5  15.50\n",
      "2        9.5   9.25\n",
      "3        3.6   4.00\n",
      "     x   y  cluster\n",
      "0    1   1        3\n",
      "1    2   2        3\n",
      "2    3   1        3\n",
      "3    6  10        2\n",
      "4    6   6        3\n",
      "5    8   8        2\n",
      "6    7   6        3\n",
      "7   12  11        2\n",
      "8   11  12        2\n",
      "9   13  15        0\n",
      "10   2  15        1\n",
      "11   1  16        1\n",
      "12   3  18        1\n",
      "Cluster Iteration  3\n",
      "Current Centroids\n",
      "              x          y\n",
      "cluster                  \n",
      "0        13.00  15.000000\n",
      "1         2.00  16.333333\n",
      "2         9.25  10.250000\n",
      "3         3.80   3.200000\n",
      "     x   y  cluster\n",
      "0    1   1        3\n",
      "1    2   2        3\n",
      "2    3   1        3\n",
      "3    6  10        2\n",
      "4    6   6        3\n",
      "5    8   8        2\n",
      "6    7   6        3\n",
      "7   12  11        2\n",
      "8   11  12        2\n",
      "9   13  15        0\n",
      "10   2  15        1\n",
      "11   1  16        1\n",
      "12   3  18        1\n",
      "Clustering Complete after 3 iterations\n"
     ]
    }
   ],
   "source": [
    "df_random_init = pd.DataFrame(data={\"x\": [1,2,3,6,6,8,7,12,11,13,2,1,3], \"y\": [1,2,1,10,6,8,6,11,12,15,15,16,18]})\n",
    "df_random_init = kMeans(df, 4, \"random\")"
   ]
  },
  {
   "cell_type": "markdown",
   "id": "5f02cab6-1a45-4fbd-b810-f627e4e38424",
   "metadata": {},
   "source": [
    "## A DataFrame with random initialization can suffer from bad points being chosen in the initialization step. Here we see that the right two clusters got mislabelled due to this."
   ]
  },
  {
   "cell_type": "code",
   "execution_count": 212,
   "id": "8a298b36-8b13-45ce-8f94-25b4a8053308",
   "metadata": {},
   "outputs": [
    {
     "data": {
      "text/plain": [
       "<AxesSubplot:xlabel='x', ylabel='y'>"
      ]
     },
     "execution_count": 212,
     "metadata": {},
     "output_type": "execute_result"
    },
    {
     "data": {
      "image/png": "[encoded data removed]",
      "text/plain": [
       "<Figure size 432x288 with 1 Axes>"
      ]
     },
     "metadata": {
      "needs_background": "light"
     },
     "output_type": "display_data"
    }
   ],
   "source": [
    "sns.scatterplot(data=df_random_init, x=\"x\", y=\"y\", hue=\"cluster\", palette=\"Set1\")"
   ]
  },
  {
   "cell_type": "markdown",
   "id": "039627cd-17de-44fe-8e09-7237ad380a01",
   "metadata": {},
   "source": [
    "## These clusters were initialized using the kmeans++ algorithm. In short, we choose initial clusters that maximize the distance of each new cluster from the perviously chosen clusters. This ensures that we don't wind up with clusters near each other when starting out."
   ]
  },
  {
   "cell_type": "code",
   "execution_count": 213,
   "id": "d42ba675-2a0c-4cb6-8af4-97f3613a664f",
   "metadata": {},
   "outputs": [
    {
     "data": {
      "text/plain": [
       "<AxesSubplot:xlabel='x', ylabel='y'>"
      ]
     },
     "execution_count": 213,
     "metadata": {},
     "output_type": "execute_result"
    },
    {
     "data": {
      "image/png": "[encoded data removed]",
      "text/plain": [
       "<Figure size 432x288 with 1 Axes>"
      ]
     },
     "metadata": {
      "needs_background": "light"
     },
     "output_type": "display_data"
    }
   ],
   "source": [
    "sns.scatterplot(data=df_kplus_init, x=\"x\", y=\"y\", hue=\"cluster\", palette=\"Set1\")"
   ]
  },
  {
   "cell_type": "code",
   "execution_count": null,
   "id": "f454cde1-d73c-44c8-aa62-e74cf510395e",
   "metadata": {},
   "outputs": [],
   "source": []
  }
 ],
 "metadata": {
  "kernelspec": {
   "display_name": "Jupyter",
   "language": "python",
   "name": "jupyter"
  },
  "language_info": {
   "codemirror_mode": {
    "name": "ipython",
    "version": 3
   },
   "file_extension": ".py",
   "mimetype": "text/x-python",
   "name": "python",
   "nbconvert_exporter": "python",
   "pygments_lexer": "ipython3",
   "version": "3.8.8"
  }
 },
 "nbformat": 4,
 "nbformat_minor": 5
}
